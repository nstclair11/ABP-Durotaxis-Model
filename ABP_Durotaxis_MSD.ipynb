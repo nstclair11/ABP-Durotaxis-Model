{
 "cells": [
  {
   "cell_type": "markdown",
   "metadata": {},
   "source": [
    "## Simulating  Active Brownian motion\n",
    "In this notebook, we simulate the trajectory of a single, non-interacting active Brownian particle. Unlike passive Brownian particles (e.g. pollen grains in water) that do diffusive random walks, active Brownian particles (ABPs) propel themselves with directed motion in addition to diffusing randomly. \n",
    "\n",
    "The APB model can be used to accurately desribe the motion of certain types of cells, those which locomote actively using focal adhesions. The distribution of focal adhesions within a cell may vary continuously, tending to reorient the cell with respect to it's past momentum and giving rise to different speeds with which the cell moves. It is this angular reorientation which can be modelled as a diffusive process.\n",
    "\n",
    "Durotaxis is the preference for cells to move preferentially towards a stiffer substrate. In this project we implement durotaxis by incorporating the dependence of a cell's rotational diffusion properties on the stiffness of the medium upon which a cell is crawling.\n",
    "\n",
    "*It should be noted that although all of the simulations in this project display the trajectories or data associated with numerous cells, intercellular interactions are not taken into account here. This is a simple single cell model.*"
   ]
  },
  {
   "cell_type": "code",
   "execution_count": null,
   "metadata": {},
   "outputs": [],
   "source": [
    "import argparse\n",
    "\n",
    "parser = argparse.ArgumentParser()\n",
    "\n",
    "parser.add_argument('L', default = 3, help = 'width of stiffness transition region', type = float)\n",
    "\n",
    "parser.add_argument('ks', default = 1, help = 'stiffness on soft side of system', type = float)\n",
    "\n",
    "parser.add_argument('kh', default = 50, help = 'stiffness on hard side of system', type = float)\n",
    "\n",
    "parser.add_argument('dt', default = 0.01, help = 'discrete timestep', type = float)\n",
    "\n",
    "parser.add_argument('nw', default = 100, help = '# of cells', type = int)\n",
    "\n",
    "parser.add_argument('ns', default = 10**6, help = '# of steps each cell takes', type = int)\n",
    "\n",
    "args = parser.parse_args()\n",
    "\n",
    "L = args.L\n",
    "\n",
    "ks = args.ks\n",
    "\n",
    "kh = args.kh \n",
    "\n",
    "dt = args.dt\n",
    "\n",
    "num_walks = args.nw\n",
    "\n",
    "num_steps = args.ns"
   ]
  },
  {
   "cell_type": "code",
   "execution_count": 201,
   "metadata": {},
   "outputs": [],
   "source": [
    "import numpy as np\n",
    "import matplotlib\n",
    "import matplotlib.pyplot as plt\n",
    "from numpy.random import random as rand\n",
    "from scipy import stats\n",
    "\n",
    "import os.path\n",
    "from os import path"
   ]
  },
  {
   "cell_type": "markdown",
   "metadata": {},
   "source": [
    "### 2D Confined ABP model with durotaxis: an overview.\n",
    "Cells perform a ballistic step (proportional to $dt$) and random walk in the space of $\\theta$-values. \n",
    "\n",
    "Furthermore we implement walled boundary conditions, treating a wall as a reflecting surface. If a walker goes beyond the confining boundary of the box, it's position is altered so as to keep it in the box. Note that when this reflection of a walker by a boundary occurs, the velocity of the walker is not infuenced by the reflection.\n",
    "\n",
    "We also incorporate 1D substrate stiffness into the model. Specifically the stiffness will depend on the location of a walker within the confining box. To the left (-x) the substrate is more soft, to the right (+x) it is more stiff, and in the center is a transition region. The rotational diffusion constant of each walker is then made to depend on the stiffness of the substrate upon which it is walking, so that a walker in the stiffer region will be taking steps more ballistically, while a walker in the softer region will be taking steps more diffusively. \n",
    "\n",
    "To extract meaningful data, we collect statistics from an ensemble of identically prepared systems, i.e. individual cells which are placed in identical environments, whose ballistic and diffusive components of motion are drawn from the same distributions."
   ]
  },
  {
   "cell_type": "markdown",
   "metadata": {},
   "source": [
    "# Mean Square Displacement (MSD)\n",
    "\n",
    "The following cell defines a function that calculates the mean square displacement of a number of cells as they experience durotaxis within a confined environment. It takes in the number of cells (num_walks), the number of discrete steps (num_steps) each cell takes, the time interval between each discrete step (dt), and the width of the transition region (L) as input parameters.\n",
    "\n",
    "Parameters within the fucntion which can be further altered are: the size of the bounding system (Bbox), the soft and hard region stiffness parameters (ks and kh), and ABP parameters such as inherent cell velocity (vel), baseline rotational diffusion constant (Drot0), and translational diffusion constant (Dtrans). "
   ]
  },
  {
   "cell_type": "code",
   "execution_count": 199,
   "metadata": {},
   "outputs": [],
   "source": [
    "def get_msd_durotaxis(num_walks, num_steps, dt, L):\n",
    "\n",
    "    #ABP model parameters: ballistic velocity, time step, rotational diffusion constant, translational diffusion constant\n",
    "    vel =1.0; \n",
    "    Drot0 = 5; Dtrans = 0.001;\n",
    "\n",
    "    #bounding size of box\n",
    "    Bbox = 20\n",
    "\n",
    "    \n",
    "    # initialize arrays that store x,y and theta values, as well as initial particle position and angle\n",
    "    x_vals = np.zeros(num_walks); y_vals = np.zeros(num_walks); theta_vals = 2*np.pi*(rand(num_walks) - 0.5)\n",
    "    displacement = np.zeros(num_walks); msd_at_step = np.zeros(num_steps); k_vals = np.ones(num_walks)\n",
    "    Drot_vals=np.zeros(num_walks);\n",
    "\n",
    "    #loop through steps for all cells\n",
    "    for i in range(num_steps):\n",
    "        \n",
    "        #loop through cells\n",
    "        for j in range(num_walks):\n",
    "            \n",
    "            #implement walled boundaries\n",
    "            if x_vals[j] > Bbox/2:\n",
    "                x_vals[j] -= 2*(x_vals[j] - Bbox/2)\n",
    "            elif x_vals[j] < -Bbox/2:\n",
    "                x_vals[j] -= 2*(x_vals[j] + Bbox/2)\n",
    "            elif x_vals[j] < Bbox/2 and x_vals[j] > -Bbox/2:\n",
    "                x_vals[j] += 0\n",
    "            \n",
    "            if y_vals[j] > Bbox/2:\n",
    "                y_vals[j] -= 2*(y_vals[j] - Bbox/2)\n",
    "            elif y_vals[j] < -Bbox/2:\n",
    "                y_vals[j] -= 2*(y_vals[j] + Bbox/2)\n",
    "            elif y_vals[j] < Bbox/2 and y_vals[j] > -Bbox/2:\n",
    "                y_vals[j] += 0\n",
    "            \n",
    "            #determine substrate stiffness based on position\n",
    "            if x_vals[j] > -L and x_vals[j] < L:\n",
    "                k_vals[j] = ks + ((kh-ks)/(2*L))*(x_vals[j] + L)\n",
    "            elif x_vals[j] > L:\n",
    "                k_vals[j] = kh\n",
    "            elif x_vals[j] < -L:\n",
    "                k_vals[j] = ks\n",
    "            \n",
    "        #calculate rotational diffusion constant (for all cells) based on substrate stiffness \n",
    "        Drot_vals = Drot0/k_vals\n",
    "        \n",
    "            \n",
    "        # calculate diffusive/random steps. For the x- and y-,we generate \n",
    "        #a random number between -1 & 1 to ensure that the walker can step in both directions(up/down and left/right).\n",
    "        # update coordinates (including ballistic step along angle and diffusive step)\n",
    "        x_vals += vel*dt*np.cos(theta_vals) + np.sqrt(2*Dtrans*dt)*2*(rand(num_walks)-0.5);\n",
    "        y_vals += vel*dt*np.sin(theta_vals) + np.sqrt(2*Dtrans*dt)*2*(rand(num_walks)-0.5) \n",
    "        \n",
    "        # update angles by rotational diffusion step (again looping through each cell)\n",
    "        for k in range(num_walks):\n",
    "            theta_vals[k] += 2*np.pi*np.sqrt(2*Drot_vals[k]*dt) * rand(1)\n",
    "                \n",
    "        displacement = (x_vals**2 + y_vals**2)\n",
    "        # store msd after every interval steps\n",
    "        msd_at_step[i] = np.mean(displacement)\n",
    "        \n",
    "    time_at_step = np.linspace(0, num_steps*dt, num_steps)        \n",
    "        \n",
    "    return time_at_step, msd_at_step"
   ]
  },
  {
   "cell_type": "markdown",
   "metadata": {},
   "source": [
    "The following cell executes the previously defined get_msd_durotaxis function, and plots the collected MSD data as a function of time on a loglog plot."
   ]
  },
  {
   "cell_type": "code",
   "execution_count": 205,
   "metadata": {},
   "outputs": [
    {
     "data": {
      "image/png": "[encoded data removed]",
      "text/plain": [
       "<Figure size 432x288 with 1 Axes>"
      ]
     },
     "metadata": {
      "needs_background": "light"
     },
     "output_type": "display_data"
    }
   ],
   "source": [
    "time_at_step, msd_at_step = get_msd_durotaxis(num_walks, num_steps, dt, L)\n",
    "\n",
    "plt.loglog(time_at_step,msd_at_step, 'b.');\n",
    "plt.title('MSD vs time')\n",
    "\n",
    "filename = 'durotaxis_MSD.png'\n",
    "plt.savefig(filename)"
   ]
  }
 ],
 "metadata": {
  "kernelspec": {
   "display_name": "Python 3",
   "language": "python",
   "name": "python3"
  },
  "language_info": {
   "codemirror_mode": {
    "name": "ipython",
    "version": 3
   },
   "file_extension": ".py",
   "mimetype": "text/x-python",
   "name": "python",
   "nbconvert_exporter": "python",
   "pygments_lexer": "ipython3",
   "version": "3.7.6"
  }
 },
 "nbformat": 4,
 "nbformat_minor": 2
}
