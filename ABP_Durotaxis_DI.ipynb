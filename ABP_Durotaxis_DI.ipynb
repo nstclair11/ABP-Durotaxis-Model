{
 "cells": [
  {
   "cell_type": "markdown",
   "metadata": {},
   "source": [
    "## Simulating  Active Brownian motion\n",
    "In this notebook, we simulate the trajectory of a single, non-interacting active Brownian particle. Unlike passive Brownian particles (e.g. pollen grains in water) that do diffusive random walks, active Brownian particles (ABPs) propel themselves with directed motion in addition to diffusing randomly. \n",
    "\n",
    "The APB model can be used to accurately desribe the motion of certain types of cells, those which locomote actively using focal adhesions. The distribution of focal adhesions within a cell may vary continuously, tending to reorient the cell with respect to it's past momentum and giving rise to different speeds with which the cell moves. It is this angular reorientation which can be modelled as a diffusive process.\n",
    "\n",
    "Durotaxis is the preference for cells to move preferentially towards a stiffer substrate. In this project we implement durotaxis by incorporating the dependence of a cell's rotational diffusion properties on the stiffness of the medium upon which a cell is crawling.\n",
    "\n",
    "*It should be noted that although all of the simulations in this project display the trajectories or data associated with numerous cells, intercellular interactions are not taken into account here. This is a simple single cell model.*"
   ]
  },
  {
   "cell_type": "code",
   "execution_count": null,
   "metadata": {},
   "outputs": [],
   "source": [
    "import argparse\n",
    "\n",
    "parser = argparse.ArgumentParser()\n",
    "\n",
    "parser.add_argument('L', default = 3, help = 'width of stiffness transition region', type = float)\n",
    "\n",
    "parser.add_argument('Dr', default = 5, help = 'baseline rotational diffusion constant', type = float)\n",
    "\n",
    "parser.add_argument('ks', default = 1, help = 'stiffness on soft side of system', type = float)\n",
    "\n",
    "parser.add_argument('kh', default = 50, help = 'stiffness on hard side of system', type = float)\n",
    "\n",
    "parser.add_argument('vel', default = 1, help = 'inherent cellular velocity', type = float)\n",
    "\n",
    "parser.add_argument('nw', default = 1000, help = '# of cells used to collect statistical data', type = int)\n",
    "\n",
    "parser.add_argument('bb', default = 20, help = 'size of system', type = int)\n",
    "\n",
    "parser.add_argument('ns', default = 1000, help = '# of steps each cell takes', type = int)\n",
    "\n",
    "args = parser.parse_args()\n",
    "\n",
    "L = args.L\n",
    "\n",
    "Drot0 = args.Dr\n",
    "\n",
    "ks = args.ks\n",
    "\n",
    "kh = args.kh \n",
    "\n",
    "vel = args.vel\n",
    "\n",
    "num_walks = args.nw\n",
    "\n",
    "Bbox = args.bb\n",
    "\n",
    "num_steps = args.ns"
   ]
  },
  {
   "cell_type": "code",
   "execution_count": 2,
   "metadata": {},
   "outputs": [],
   "source": [
    "import numpy as np\n",
    "import matplotlib\n",
    "import matplotlib.pyplot as plt\n",
    "from numpy.random import random as rand\n",
    "from scipy import stats\n",
    "\n",
    "import os.path\n",
    "from os import path"
   ]
  },
  {
   "cell_type": "markdown",
   "metadata": {},
   "source": [
    "### 2D Confined ABP model with durotaxis: an overview.\n",
    "Cells perform a ballistic step (proportional to $dt$) and random walk in the space of $\\theta$-values. \n",
    "\n",
    "Furthermore we implement walled boundary conditions, treating a wall as a reflecting surface. If a walker goes beyond the confining boundary of the box, it's position is altered so as to keep it in the box. Note that when this reflection of a walker by a boundary occurs, the velocity of the walker is not infuenced by the reflection.\n",
    "\n",
    "We also incorporate 1D substrate stiffness into the model. Specifically the stiffness will depend on the location of a walker within the confining box. To the left (-x) the substrate is more soft, to the right (+x) it is more stiff, and in the center is a transition region. The rotational diffusion constant of each walker is then made to depend on the stiffness of the substrate upon which it is walking, so that a walker in the stiffer region will be taking steps more ballistically, while a walker in the softer region will be taking steps more diffusively. \n",
    "\n",
    "To extract meaningful data, we collect statistics from an ensemble of identically prepared systems, i.e. individual cells which are placed in identical environments, whose ballistic and diffusive components of motion are drawn from the same distributions."
   ]
  },
  {
   "cell_type": "markdown",
   "metadata": {},
   "source": [
    "# The Durotaxis Index (DI)\n",
    "\n",
    "## A measure of directional preference\n",
    "\n",
    "In the following cell we track the durotaxis index  for a given ensemble of systems at every *ten* times steps (denoted a big step in the output plot below).\n",
    "\n",
    "The durotaxis index is calculated as follows:\n",
    "\n",
    "\\begin{equation}\n",
    "    D_{i}(t) = \\frac{N_{right} - N_{left}} {N_{right} + N_{left}}\n",
    "\\end{equation}\n",
    "\n",
    "Where $N_{right}$ and $N_{left}$ are the number of cells (in the ensemble) which have undergone net displacement in the right and left directions respectively.\n",
    "\n",
    "The index at a given point in time tells us the proportion of cells in an ensemble which have net displacement to the right (left) for $D_{i}$ positive (negative). Since the stiffness gradients in these systems are set up to be increasing as we move to the right, a positive index simply tells us how strongly cellular motion is influenced by this gradient. An index of zero would correspond to all cells having reached a region in the system where the substrate stiffness is constant (i.e. either the far left or far right) and so the cell would again be performing regular active brownian motion. "
   ]
  },
  {
   "cell_type": "code",
   "execution_count": 3,
   "metadata": {},
   "outputs": [],
   "source": [
    "#  ABP model\n",
    "\n",
    "#ABP model parameters: ballistic velocity, time step, rotational diffusion constant, translational diffusion constant\n",
    "dt = 0.01; Dtrans = 0.001;\n",
    "\n",
    "Bframe = Bbox/10\n",
    "\n",
    "\n",
    "Di = np.empty((num_walks,int(num_steps/10)))\n",
    "\n",
    "for j in range(num_walks):\n",
    "    \n",
    "    # initialize arrays that store x,y and theta values, as well as initial particle position and angle\n",
    "\n",
    "    xvec=np.zeros(0); yvec=np.zeros(0); thetavec = np.zeros(0)\n",
    "    x=0.0; y = 0.0; theta = (2*np.pi)*rand(1)\n",
    "    xvec = np.append(xvec,x); yvec = np.append(yvec,y); thetavec = np.append(thetavec, theta)\n",
    "\n",
    "    dj = np.empty(int(num_steps/10))\n",
    "    \n",
    "    for i in range(num_steps):\n",
    "        \n",
    "        #determine substrate stiffness based on position\n",
    "        if x > -L and x < L:\n",
    "            k = ks + ((kh-ks)/(2*L))*(x + L)\n",
    "        elif x > L:\n",
    "            k = kh\n",
    "        elif x < -L:\n",
    "            k = ks\n",
    "            \n",
    "        #calculate rotational diffusion constant based on substrate stiffness\n",
    "        Drot = Drot0/k\n",
    "            \n",
    "        # calculate diffusive/random steps. For the x- and y-,we generate \n",
    "        #a random number between -1 & 1 to ensure that the walker can step in both directions(up/down and left/right).\n",
    "        dx = np.sqrt(2*Dtrans*dt)*2*(rand(1)-0.5); \n",
    "        dy= np.sqrt(2*Dtrans*dt)*2*(rand(1)-0.5); \n",
    "        dtheta = np.sqrt(2*Drot*dt)*(2*np.pi)*(rand(1) - 0.5);\n",
    "        # update coordinates (including ballistic step)\n",
    "        x += vel*dt*np.cos(theta) + dx \n",
    "        y += vel*dt*np.sin(theta) + dy\n",
    "        # implement walled boundary conditions\n",
    "        if x > Bbox/2:\n",
    "            x -= 2*(x - Bbox/2)\n",
    "        elif x < -Bbox/2:\n",
    "            x -= 2*(x + Bbox/2)\n",
    "        elif x < Bbox/2 and x > -Bbox/2:\n",
    "            x += 0\n",
    "            \n",
    "        if y > Bbox/2:\n",
    "            y -= 2*(y - Bbox/2)\n",
    "        elif y < -Bbox/2:\n",
    "            y -= 2*(y + Bbox/2)\n",
    "        elif y < Bbox/2 and y > -Bbox/2:\n",
    "            y += 0\n",
    "            \n",
    "        \n",
    "        # store successive positions in arrays\n",
    "        xvec = np.append(xvec,x); yvec = np.append(yvec,y) \n",
    "        # update the angle and store in array\n",
    "        theta += dtheta\n",
    "        thetavec = np.append(thetavec, theta)\n",
    "    \n",
    "    for k in range(int(num_steps/10)):\n",
    "        \n",
    "        if (xvec[10*(k+1)] - xvec[10*k]) > 0:\n",
    "        \n",
    "            dj[k] =  1\n",
    "        \n",
    "        elif (xvec[10*(k+1)] - xvec[10*k]) < 0:\n",
    "            \n",
    "            dj[k] = -1\n",
    "        \n",
    "    Di[j] = dj "
   ]
  },
  {
   "cell_type": "markdown",
   "metadata": {},
   "source": [
    "The following cell plots the DI data collected from executing the confined ABP durotaxis model."
   ]
  },
  {
   "cell_type": "code",
   "execution_count": 5,
   "metadata": {},
   "outputs": [
    {
     "data": {
      "image/png": "[encoded data removed]",
      "text/plain": [
       "<Figure size 432x288 with 1 Axes>"
      ]
     },
     "metadata": {
      "needs_background": "light"
     },
     "output_type": "display_data"
    }
   ],
   "source": [
    "bigsteps = np.linspace(1,int(num_steps/10),int(num_steps/10))\n",
    "\n",
    "plt.plot(bigsteps, Di.sum(0)/num_walks, 'b-')\n",
    "plt.title('Durotaxis Index')\n",
    "plt.xlabel('Big Step');\n",
    "\n",
    "plt.savefig('Durotaxis index.png')"
   ]
  },
  {
   "cell_type": "code",
   "execution_count": null,
   "metadata": {},
   "outputs": [],
   "source": []
  }
 ],
 "metadata": {
  "kernelspec": {
   "display_name": "Python 3",
   "language": "python",
   "name": "python3"
  },
  "language_info": {
   "codemirror_mode": {
    "name": "ipython",
    "version": 3
   },
   "file_extension": ".py",
   "mimetype": "text/x-python",
   "name": "python",
   "nbconvert_exporter": "python",
   "pygments_lexer": "ipython3",
   "version": "3.7.6"
  }
 },
 "nbformat": 4,
 "nbformat_minor": 2
}
